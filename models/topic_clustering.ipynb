{
 "cells": [
  {
   "cell_type": "markdown",
   "id": "e427326a",
   "metadata": {},
   "source": [
    "# Topic Clustering (NLP)\n",
    "\n",
    "This notebook clusters member queries into themes."
   ]
  },
  {
   "cell_type": "code",
   "execution_count": null,
   "id": "bbe02901",
   "metadata": {},
   "outputs": [],
   "source": [
    "import pandas as pd\n",
    "from sklearn.feature_extraction.text import TfidfVectorizer\n",
    "from sklearn.cluster import KMeans\n",
    "\n",
    "# Load queries\n",
    "queries = pd.read_csv(\"../data/queries.csv\")\n",
    "\n",
    "# Vectorize queries\n",
    "vectorizer = TfidfVectorizer(stop_words='english')\n",
    "X = vectorizer.fit_transform(queries['query_text'])\n",
    "\n",
    "# Cluster\n",
    "kmeans = KMeans(n_clusters=2, random_state=42)\n",
    "queries['cluster'] = kmeans.fit_predict(X)\n",
    "\n",
    "print(queries)"
   ]
  }
 ],
 "metadata": {},
 "nbformat": 4,
 "nbformat_minor": 5
}
