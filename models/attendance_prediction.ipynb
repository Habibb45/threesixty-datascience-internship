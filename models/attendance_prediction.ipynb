{
 "cells": [
  {
   "cell_type": "markdown",
   "id": "c78ccc6d",
   "metadata": {},
   "source": [
    "# Attendance Prediction (Time Series)\n",
    "\n",
    "This notebook trains a time series model to predict gym attendance."
   ]
  },
  {
   "cell_type": "code",
   "execution_count": null,
   "id": "a0f87896",
   "metadata": {},
   "outputs": [],
   "source": [
    "import pandas as pd\n",
    "import matplotlib.pyplot as plt\n",
    "from prophet import Prophet\n",
    "\n",
    "# Load sessions data\n",
    "sessions = pd.read_csv(\"../data/sessions.csv\")\n",
    "sessions['date'] = pd.to_datetime(sessions['date'])\n",
    "\n",
    "# Aggregate by date\n",
    "daily_counts = sessions.groupby('date').size().reset_index(name='checkins')\n",
    "\n",
    "# Prepare for Prophet\n",
    "df_prophet = daily_counts.rename(columns={'date': 'ds', 'checkins': 'y'})\n",
    "\n",
    "# Fit model\n",
    "model = Prophet()\n",
    "model.fit(df_prophet)\n",
    "\n",
    "# Forecast next 30 days\n",
    "future = model.make_future_dataframe(periods=30)\n",
    "forecast = model.predict(future)\n",
    "\n",
    "# Plot forecast\n",
    "fig = model.plot(forecast)\n",
    "plt.show()"
   ]
  }
 ],
 "metadata": {},
 "nbformat": 4,
 "nbformat_minor": 5
}
