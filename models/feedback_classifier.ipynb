{
 "cells": [
  {
   "cell_type": "markdown",
   "id": "833aca91",
   "metadata": {},
   "source": [
    "# Feedback Classifier (Sentiment Analysis)\n",
    "\n",
    "This notebook trains a simple sentiment analysis model on feedback comments."
   ]
  },
  {
   "cell_type": "code",
   "execution_count": null,
   "id": "c4e13d4e",
   "metadata": {},
   "outputs": [],
   "source": [
    "import pandas as pd\n",
    "from sklearn.model_selection import train_test_split\n",
    "from sklearn.feature_extraction.text import TfidfVectorizer\n",
    "from sklearn.linear_model import LogisticRegression\n",
    "from sklearn.metrics import classification_report\n",
    "\n",
    "# Load feedback\n",
    "feedback = pd.read_csv(\"../data/feedback.csv\")\n",
    "\n",
    "# Label positive (rating>=4) as 1, else 0\n",
    "feedback['label'] = (feedback['rating'] >= 4).astype(int)\n",
    "\n",
    "# Split data\n",
    "X_train, X_test, y_train, y_test = train_test_split(\n",
    "    feedback['comment'], feedback['label'], test_size=0.2, random_state=42\n",
    ")\n",
    "\n",
    "# Vectorize\n",
    "vectorizer = TfidfVectorizer()\n",
    "X_train_tfidf = vectorizer.fit_transform(X_train)\n",
    "X_test_tfidf = vectorizer.transform(X_test)\n",
    "\n",
    "# Train classifier\n",
    "clf = LogisticRegression()\n",
    "clf.fit(X_train_tfidf, y_train)\n",
    "\n",
    "# Evaluate\n",
    "y_pred = clf.predict(X_test_tfidf)\n",
    "print(classification_report(y_test, y_pred))"
   ]
  }
 ],
 "metadata": {},
 "nbformat": 4,
 "nbformat_minor": 5
}
