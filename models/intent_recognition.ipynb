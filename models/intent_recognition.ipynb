{
 "cells": [
  {
   "cell_type": "markdown",
   "id": "fb9319f8",
   "metadata": {},
   "source": [
    "# Intent Recognition\n",
    "\n",
    "This notebook trains a simple intent recognition model on member queries."
   ]
  },
  {
   "cell_type": "code",
   "execution_count": null,
   "id": "5deaf799",
   "metadata": {},
   "outputs": [],
   "source": [
    "import pandas as pd\n",
    "from sklearn.model_selection import train_test_split\n",
    "from sklearn.feature_extraction.text import TfidfVectorizer\n",
    "from sklearn.linear_model import LogisticRegression\n",
    "\n",
    "# Load queries\n",
    "queries = pd.read_csv(\"../data/queries.csv\")\n",
    "\n",
    "# Mock labels for demonstration\n",
    "queries['intent'] = ['class_schedule', 'cancel_subscription']\n",
    "\n",
    "# Split\n",
    "X_train, X_test, y_train, y_test = train_test_split(\n",
    "    queries['query_text'], queries['intent'], test_size=0.5, random_state=42\n",
    ")\n",
    "\n",
    "# Vectorize\n",
    "vectorizer = TfidfVectorizer()\n",
    "X_train_tfidf = vectorizer.fit_transform(X_train)\n",
    "X_test_tfidf = vectorizer.transform(X_test)\n",
    "\n",
    "# Train classifier\n",
    "clf = LogisticRegression()\n",
    "clf.fit(X_train_tfidf, y_train)\n",
    "\n",
    "# Evaluate\n",
    "print(\"Train accuracy:\", clf.score(X_train_tfidf, y_train))\n",
    "print(\"Test accuracy:\", clf.score(X_test_tfidf, y_test))"
   ]
  }
 ],
 "metadata": {},
 "nbformat": 4,
 "nbformat_minor": 5
}
