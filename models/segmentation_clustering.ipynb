{
 "cells": [
  {
   "cell_type": "markdown",
   "id": "9ea49cff",
   "metadata": {},
   "source": [
    "# Member Segmentation (Clustering)\n",
    "\n",
    "This notebook applies clustering on members to segment them by behavior."
   ]
  },
  {
   "cell_type": "code",
   "execution_count": null,
   "id": "34bd58c4",
   "metadata": {},
   "outputs": [],
   "source": [
    "import pandas as pd\n",
    "from sklearn.cluster import KMeans\n",
    "import matplotlib.pyplot as plt\n",
    "\n",
    "# Load segmented members (mock or create features)\n",
    "members = pd.read_csv(\"../data/members_segmented.csv\")\n",
    "\n",
    "# Here, we simulate features (in real case use frequency, duration, etc.)\n",
    "X = pd.get_dummies(members['segment'])\n",
    "\n",
    "# Fit KMeans\n",
    "kmeans = KMeans(n_clusters=3, random_state=42)\n",
    "members['cluster'] = kmeans.fit_predict(X)\n",
    "\n",
    "print(members.head())\n",
    "\n",
    "# Plot clusters (mock visualization)\n",
    "plt.scatter(range(len(members)), members['cluster'])\n",
    "plt.title(\"Member Segmentation Clusters\")\n",
    "plt.show()"
   ]
  }
 ],
 "metadata": {},
 "nbformat": 4,
 "nbformat_minor": 5
}
