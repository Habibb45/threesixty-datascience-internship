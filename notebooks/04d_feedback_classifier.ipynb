{
 "cells": [
  {
   "cell_type": "markdown",
   "id": "7d5d208c",
   "metadata": {},
   "source": [
    "# Phase 5 — Feedback Classifier (Service-Specific)"
   ]
  },
  {
   "cell_type": "code",
   "execution_count": null,
   "id": "c3bf1976",
   "metadata": {},
   "outputs": [],
   "source": [
    "\n",
    "import pandas as pd\n",
    "from sklearn.feature_extraction.text import TfidfVectorizer\n",
    "from sklearn.linear_model import SGDClassifier\n",
    "from sklearn.model_selection import train_test_split\n",
    "from sklearn.metrics import classification_report\n",
    "\n",
    "df = pd.read_csv('../data/feedback.csv')  # expects: text, label (e.g., {equipment, cleanliness, staff, app, pricing})\n",
    "if 'label' in df.columns and df['label'].notna().sum() > 20:\n",
    "    X_train, X_test, y_train, y_test = train_test_split(df['text'], df['label'], test_size=0.2, random_state=42)\n",
    "    vec = TfidfVectorizer(max_features=10000, ngram_range=(1,2))\n",
    "    Xtr = vec.fit_transform(X_train)\n",
    "    Xte = vec.transform(X_test)\n",
    "    clf = SGDClassifier(loss='log_loss', max_iter=2000)\n",
    "    clf.fit(Xtr, y_train)\n",
    "    pred = clf.predict(Xte)\n",
    "    print(classification_report(y_test, pred))\n",
    "else:\n",
    "    print(\"Add a 'label' column with service tags to train this classifier.\")\n"
   ]
  }
 ],
 "metadata": {},
 "nbformat": 4,
 "nbformat_minor": 5
}
