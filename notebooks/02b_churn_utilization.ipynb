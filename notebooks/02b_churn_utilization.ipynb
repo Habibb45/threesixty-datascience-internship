{
 "cells": [
  {
   "cell_type": "markdown",
   "id": "11ac8de5",
   "metadata": {},
   "source": [
    "# Phase 2 (Extended) — Churn & Utilization"
   ]
  },
  {
   "cell_type": "code",
   "execution_count": null,
   "id": "430725bb",
   "metadata": {},
   "outputs": [],
   "source": [
    "\n",
    "import pandas as pd\n",
    "import numpy as np\n",
    "\n",
    "subs = pd.read_csv('../data/subscriptions.csv')\n",
    "sessions = pd.read_csv('../data/sessions.csv')\n",
    "attendance = pd.read_csv('../data/attendance.csv')\n",
    "\n",
    "# Churn definition: members whose subscription ended in last N days and not renewed\n",
    "subs['end_date'] = pd.to_datetime(subs['end_date'], errors='coerce')\n",
    "subs['start_date'] = pd.to_datetime(subs['start_date'], errors='coerce')\n",
    "\n",
    "# Monthly churn rate (placeholder logic)\n",
    "subs['month'] = subs['end_date'].dt.to_period('M')\n",
    "churn = subs.groupby('month').apply(lambda g: (g['status'].astype(str).str.lower()=='cancelled').mean()).rename('churn_rate').reset_index()\n",
    "churn.head()\n"
   ]
  },
  {
   "cell_type": "code",
   "execution_count": null,
   "id": "85228125",
   "metadata": {},
   "outputs": [],
   "source": [
    "\n",
    "# Utilization: capacity vs attended per session\n",
    "sessions['start_datetime'] = pd.to_datetime(sessions['start_datetime'], errors='coerce')\n",
    "att = attendance.merge(sessions[['session_id','capacity','start_datetime','coach_name','location']], on='session_id', how='left')\n",
    "util = att.groupby('session_id').apply(lambda g: (g['status']=='attended').sum() / g['capacity'].sum() if g['capacity'].sum() else np.nan).rename('utilization').reset_index()\n",
    "util.head()\n"
   ]
  }
 ],
 "metadata": {},
 "nbformat": 4,
 "nbformat_minor": 5
}
