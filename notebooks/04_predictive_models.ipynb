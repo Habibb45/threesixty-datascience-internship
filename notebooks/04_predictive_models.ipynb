{
 "cells": [
  {
   "cell_type": "markdown",
   "id": "78d853fe",
   "metadata": {},
   "source": [
    "# Phase 5 — Predictive Models & Recommendations"
   ]
  },
  {
   "cell_type": "code",
   "execution_count": null,
   "id": "34bdd2eb",
   "metadata": {},
   "outputs": [],
   "source": [
    "\n",
    "import pandas as pd\n",
    "import numpy as np\n",
    "from sklearn.model_selection import train_test_split\n",
    "from sklearn.metrics import roc_auc_score\n",
    "from xgboost import XGBClassifier\n",
    "\n",
    "attendance = pd.read_csv('../data/attendance.csv')\n",
    "sessions = pd.read_csv('../data/sessions.csv')\n",
    "\n",
    "# Example label: attended vs not (per booking entry if available)\n",
    "y = (attendance['status'] == 'attended').astype(int)\n",
    "\n",
    "# Simple features (replace with engineered ones)\n",
    "X = attendance[['member_id','session_id']].copy()\n",
    "# Encode IDs\n",
    "X = X.apply(lambda c: pd.factorize(c)[0])\n",
    "\n",
    "X_train, X_test, y_train, y_test = train_test_split(X, y, test_size=0.2, random_state=42)\n",
    "model = XGBClassifier(n_estimators=200, max_depth=5, learning_rate=0.1, subsample=0.8, colsample_bytree=0.8)\n",
    "model.fit(X_train, y_train)\n",
    "pred = model.predict_proba(X_test)[:,1]\n",
    "print(\"AUC:\", roc_auc_score(y_test, pred))\n"
   ]
  },
  {
   "cell_type": "code",
   "execution_count": null,
   "id": "5008a0fd",
   "metadata": {},
   "outputs": [],
   "source": [
    "\n",
    "# Recommendation stub: top-N popular sessions by member segment\n",
    "import pandas as pd\n",
    "attendance = pd.read_csv('../data/attendance.csv')\n",
    "popular = attendance[attendance['status']=='attended'].groupby('session_id').size().sort_values(ascending=False).head(5)\n",
    "popular\n"
   ]
  }
 ],
 "metadata": {},
 "nbformat": 4,
 "nbformat_minor": 5
}
