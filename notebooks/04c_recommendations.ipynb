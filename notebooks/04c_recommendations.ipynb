{
 "cells": [
  {
   "cell_type": "markdown",
   "id": "477b4c63",
   "metadata": {},
   "source": [
    "# Phase 5 — Recommendation (Popularity/Collaborative Filtering Stub)"
   ]
  },
  {
   "cell_type": "code",
   "execution_count": null,
   "id": "56d9fab8",
   "metadata": {},
   "outputs": [],
   "source": [
    "\n",
    "import pandas as pd\n",
    "\n",
    "att = pd.read_csv('../data/attendance.csv')\n",
    "# Popularity-based top sessions\n",
    "popular_sessions = att[att['status']=='attended'].groupby('session_id').size().sort_values(ascending=False).head(10)\n",
    "popular_sessions\n"
   ]
  },
  {
   "cell_type": "code",
   "execution_count": null,
   "id": "b3f9f8c1",
   "metadata": {},
   "outputs": [],
   "source": [
    "\n",
    "# TODO: Build member x session matrix for collaborative filtering\n",
    "# Pivot example:\n",
    "# pivot = att.assign(val=1).pivot_table(index='member_id', columns='session_id', values='val', aggfunc='sum', fill_value=0)\n",
    "# Use implicit ALS or cosine similarity for recommendations.\n"
   ]
  }
 ],
 "metadata": {},
 "nbformat": 4,
 "nbformat_minor": 5
}
