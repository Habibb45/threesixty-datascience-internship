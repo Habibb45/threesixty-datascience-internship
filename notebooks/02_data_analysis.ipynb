{
 "cells": [
  {
   "cell_type": "markdown",
   "id": "ca3b1df6",
   "metadata": {},
   "source": [
    "# Phase 2 — Data Analysis (Trends, Performance, Utilization)"
   ]
  },
  {
   "cell_type": "code",
   "execution_count": null,
   "id": "ed8a23d9",
   "metadata": {},
   "outputs": [],
   "source": [
    "\n",
    "import pandas as pd\n",
    "import numpy as np\n",
    "\n",
    "members = pd.read_csv('../data/members.csv')\n",
    "sessions = pd.read_csv('../data/sessions.csv')\n",
    "attendance = pd.read_csv('../data/attendance.csv')\n",
    "\n",
    "attendance['checkin_time'] = pd.to_datetime(attendance['checkin_time'], errors='coerce')\n",
    "\n",
    "# Trends per day\n",
    "att_daily = attendance.groupby(attendance['checkin_time'].dt.date).size().rename('checkins').reset_index()\n",
    "att_daily.head()\n"
   ]
  },
  {
   "cell_type": "code",
   "execution_count": null,
   "id": "636bb5e9",
   "metadata": {},
   "outputs": [],
   "source": [
    "\n",
    "# Coach booking rate (requires coach_name in sessions + join with attendance)\n",
    "att = attendance.merge(sessions[['session_id','coach_name','capacity','start_datetime','location']], on='session_id', how='left')\n",
    "att['start_datetime'] = pd.to_datetime(att['start_datetime'], errors='coerce')\n",
    "coach_rate = att.groupby('coach_name').apply(lambda g: (g['status']=='attended').sum() / g['capacity'].sum() if g['capacity'].sum() else np.nan).rename('booking_rate').reset_index()\n",
    "coach_rate.sort_values('booking_rate', ascending=False).head()\n"
   ]
  },
  {
   "cell_type": "code",
   "execution_count": null,
   "id": "ccdcd847",
   "metadata": {},
   "outputs": [],
   "source": [
    "\n",
    "# No-show rate\n",
    "no_show = (attendance['status'] == 'no_show').mean()\n",
    "no_show\n"
   ]
  }
 ],
 "metadata": {},
 "nbformat": 4,
 "nbformat_minor": 5
}
