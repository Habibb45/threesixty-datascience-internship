{
 "cells": [
  {
   "cell_type": "markdown",
   "id": "0bfdb80d",
   "metadata": {},
   "source": [
    "# Phase 4 — Geo Analytics (If locations available)"
   ]
  },
  {
   "cell_type": "code",
   "execution_count": null,
   "id": "6097b681",
   "metadata": {},
   "outputs": [],
   "source": [
    "\n",
    "import pandas as pd\n",
    "\n",
    "# Expect either member city/region or branch coordinates.\n",
    "# members.csv columns example: city, region, lat, lon\n",
    "members = pd.read_csv('../data/members.csv')\n",
    "if set(['lat','lon']).issubset(members.columns):\n",
    "    print(\"Preview:\", members[['lat','lon']].head())\n",
    "    # For Streamlit map:\n",
    "    # import streamlit as st\n",
    "    # st.map(members[['lat','lon']].dropna())\n",
    "else:\n",
    "    print(\"No lat/lon columns found. Add city/region or coordinates to enable geo analytics.\")\n"
   ]
  }
 ],
 "metadata": {},
 "nbformat": 4,
 "nbformat_minor": 5
}
