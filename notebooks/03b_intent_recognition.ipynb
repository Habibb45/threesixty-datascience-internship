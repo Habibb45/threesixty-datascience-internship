{
 "cells": [
  {
   "cell_type": "markdown",
   "id": "0dbb5b49",
   "metadata": {},
   "source": [
    "# Phase 3 (Extended) — Intent Recognition (Label or Improve)"
   ]
  },
  {
   "cell_type": "code",
   "execution_count": null,
   "id": "81c79fe4",
   "metadata": {},
   "outputs": [],
   "source": [
    "\n",
    "import pandas as pd\n",
    "from sklearn.feature_extraction.text import TfidfVectorizer\n",
    "from sklearn.linear_model import LogisticRegression\n",
    "from sklearn.model_selection import train_test_split\n",
    "from sklearn.metrics import classification_report\n",
    "\n",
    "queries = pd.read_csv('../data/queries.csv')  # expects: text, intent (if labeled)\n",
    "queries['intent'] = queries['intent'].fillna('unknown')\n",
    "\n",
    "# Train baseline classifier on labeled rows only\n",
    "train = queries[queries['intent']!='unknown'].copy()\n",
    "if len(train) > 20:\n",
    "    X_train, X_test, y_train, y_test = train_test_split(train['text'], train['intent'], test_size=0.2, random_state=42)\n",
    "    vec = TfidfVectorizer(max_features=5000, ngram_range=(1,2))\n",
    "    Xtr = vec.fit_transform(X_train)\n",
    "    Xte = vec.transform(X_test)\n",
    "    clf = LogisticRegression(max_iter=1000)\n",
    "    clf.fit(Xtr, y_train)\n",
    "    pred = clf.predict(Xte)\n",
    "    print(classification_report(y_test, pred))\n",
    "else:\n",
    "    print(\"Not enough labeled intents; label more data to train.\")\n"
   ]
  }
 ],
 "metadata": {},
 "nbformat": 4,
 "nbformat_minor": 5
}
