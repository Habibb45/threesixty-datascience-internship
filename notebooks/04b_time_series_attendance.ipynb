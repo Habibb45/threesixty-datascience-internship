{
 "cells": [
  {
   "cell_type": "markdown",
   "id": "c7578ba1",
   "metadata": {},
   "source": [
    "# Phase 5 (Time Series) — Attendance Forecasting"
   ]
  },
  {
   "cell_type": "code",
   "execution_count": null,
   "id": "b258bfa3",
   "metadata": {},
   "outputs": [],
   "source": [
    "\n",
    "import pandas as pd\n",
    "from sklearn.metrics import mean_absolute_error\n",
    "attendance = pd.read_csv('../data/attendance.csv')\n",
    "attendance['checkin_time'] = pd.to_datetime(attendance['checkin_time'], errors='coerce')\n",
    "daily = attendance.groupby(attendance['checkin_time'].dt.date).size().rename('y').reset_index().rename(columns={'checkin_time':'ds'})\n",
    "daily['ds'] = pd.to_datetime(daily['ds'])\n",
    "\n",
    "# Naive baseline: yesterday=tomorrow\n",
    "daily = daily.sort_values('ds')\n",
    "daily['yhat_naive'] = daily['y'].shift(1)\n",
    "mae = mean_absolute_error(daily['y'].dropna(), daily['yhat_naive'].dropna())\n",
    "print(\"Naive MAE:\", mae)\n",
    "\n",
    "# You can swap with SARIMA/Prophet later.\n"
   ]
  }
 ],
 "metadata": {},
 "nbformat": 4,
 "nbformat_minor": 5
}
