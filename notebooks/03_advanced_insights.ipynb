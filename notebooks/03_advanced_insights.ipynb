{
 "cells": [
  {
   "cell_type": "markdown",
   "id": "50904d12",
   "metadata": {},
   "source": [
    "# Phase 3 — Advanced Insights (Sentiment, Topics, Segmentation)"
   ]
  },
  {
   "cell_type": "code",
   "execution_count": null,
   "id": "60d529b3",
   "metadata": {},
   "outputs": [],
   "source": [
    "\n",
    "import pandas as pd\n",
    "from sklearn.feature_extraction.text import TfidfVectorizer\n",
    "from sklearn.cluster import KMeans\n",
    "from nltk.sentiment import SentimentIntensityAnalyzer\n",
    "import nltk\n",
    "nltk.download('vader_lexicon')\n",
    "\n",
    "feedback = pd.read_csv('../data/feedback.csv')  # columns: feedback_id, member_id, text, created_at\n",
    "\n",
    "# Sentiment\n",
    "sia = SentimentIntensityAnalyzer()\n",
    "feedback['sentiment'] = feedback['text'].astype(str).apply(lambda t: sia.polarity_scores(t)['compound'])\n",
    "\n",
    "# Topic clustering (simple baseline)\n",
    "vec = TfidfVectorizer(max_features=2000, stop_words='english')\n",
    "X = vec.fit_transform(feedback['text'].fillna(''))\n",
    "kmeans = KMeans(n_clusters=5, random_state=42, n_init=10)\n",
    "feedback['topic'] = kmeans.fit_predict(X)\n",
    "\n",
    "feedback[['text','sentiment','topic']].head()\n"
   ]
  },
  {
   "cell_type": "code",
   "execution_count": null,
   "id": "10096983",
   "metadata": {},
   "outputs": [],
   "source": [
    "\n",
    "# Member segmentation example (frequency-based using attendance)\n",
    "attendance = pd.read_csv('../data/attendance.csv')\n",
    "attendance['checkin_time'] = pd.to_datetime(attendance['checkin_time'], errors='coerce')\n",
    "freq = attendance.groupby('member_id').size().rename('visits')\n",
    "bins = [0,1,4,8,9999]\n",
    "labels = ['New','Occasional','Regular','Power']\n",
    "segments = pd.cut(freq, bins=bins, labels=labels, right=True, include_lowest=True)\n",
    "segments.value_counts()\n"
   ]
  }
 ],
 "metadata": {},
 "nbformat": 4,
 "nbformat_minor": 5
}
