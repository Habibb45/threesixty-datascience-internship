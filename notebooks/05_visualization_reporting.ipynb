{
 "cells": [
  {
   "cell_type": "markdown",
   "id": "58ad0188",
   "metadata": {},
   "source": [
    "# Phase 4 — Visualization & Reporting"
   ]
  },
  {
   "cell_type": "code",
   "execution_count": null,
   "id": "e6eea87c",
   "metadata": {},
   "outputs": [],
   "source": [
    "\n",
    "import pandas as pd\n",
    "import matplotlib.pyplot as plt\n",
    "import seaborn as sns\n",
    "\n",
    "attendance = pd.read_csv('../data/attendance.csv')\n",
    "attendance['checkin_time'] = pd.to_datetime(attendance['checkin_time'], errors='coerce')\n",
    "\n",
    "# Heatmap: hour x weekday\n",
    "attendance['hour'] = attendance['checkin_time'].dt.hour\n",
    "attendance['dow'] = attendance['checkin_time'].dt.dayofweek  # 0=Mon\n",
    "\n",
    "pivot = attendance.pivot_table(index='dow', columns='hour', values='attendance_id', aggfunc='count').fillna(0)\n",
    "sns.heatmap(pivot)\n",
    "plt.title(\"Gym Usage Heatmap (Hour x Day)\")\n",
    "plt.xlabel(\"Hour of Day\")\n",
    "plt.ylabel(\"Day of Week\")\n",
    "plt.show()\n"
   ]
  }
 ],
 "metadata": {},
 "nbformat": 4,
 "nbformat_minor": 5
}
